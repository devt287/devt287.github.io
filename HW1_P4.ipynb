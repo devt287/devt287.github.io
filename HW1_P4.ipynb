{
  "nbformat": 4,
  "nbformat_minor": 0,
  "metadata": {
    "colab": {
      "provenance": [],
      "include_colab_link": true
    },
    "kernelspec": {
      "name": "ir",
      "display_name": "R"
    },
    "language_info": {
      "name": "R"
    }
  },
  "cells": [
    {
      "cell_type": "markdown",
      "metadata": {
        "id": "view-in-github",
        "colab_type": "text"
      },
      "source": [
        "<a href=\"https://colab.research.google.com/github/devt287/devt287.github.io/blob/master/HW1_P4.ipynb\" target=\"_parent\"><img src=\"https://colab.research.google.com/assets/colab-badge.svg\" alt=\"Open In Colab\"/></a>"
      ]
    },
    {
      "cell_type": "code",
      "source": [
        "### YOUR CODE: read \"College.csv\" into the \"college\" data frame (~1 line)\n",
        "# Make sure that you have the directory set to the correct location for the data.\n",
        "\n",
        "college =\n",
        "\n",
        "# Treat the university names as the row name\n",
        "rownames(college) = college[, 1]\n",
        "\n",
        "### YOUR CODE: remove the first column in the college data frame (~1 line)\n",
        "\n",
        "\n",
        "### YOUR CODE: output the number of rows & columns in the dataset (~1 line)\n"
      ],
      "metadata": {
        "id": "3r3jxm4y5r56"
      },
      "execution_count": null,
      "outputs": []
    },
    {
      "cell_type": "code",
      "source": [
        "### YOUR CODE: add a variable called \"Accept_ratio\" representing\n",
        "# the acceptance ratio of each university (~1 line)\n",
        "Accept_ratio =\n",
        "\n",
        "college = data.frame(college, Accept_ratio)"
      ],
      "metadata": {
        "id": "bI6alxrq-Diz"
      },
      "execution_count": null,
      "outputs": []
    },
    {
      "cell_type": "code",
      "source": [
        "### YOUR CODE: find the row index with the name \"New York University\" (~1 line)\n",
        "# looking up the \"which\" function in R might be helpful\n",
        "NYU_idx =\n",
        "\n",
        "View(college[NYU_idx,])"
      ],
      "metadata": {
        "id": "lDrgWwrn9_YJ"
      },
      "execution_count": null,
      "outputs": []
    },
    {
      "cell_type": "code",
      "source": [
        "library(\"ggplot2\")\n",
        "\n",
        "### YOUR CODE: using ggplot, make a box plot of the out-of-state tuition against\n",
        "# the public/private indicator (~1 line)\n",
        "\n"
      ],
      "metadata": {
        "id": "_f-TQB6jB8BY"
      },
      "execution_count": null,
      "outputs": []
    },
    {
      "cell_type": "code",
      "source": [
        "### YOUR CODE: using ggplot, make a violin plot of the estimated personal spending\n",
        "# against the public/private indicator (~1 line)\n",
        "\n"
      ],
      "metadata": {
        "id": "bjBt0drghHzi"
      },
      "execution_count": null,
      "outputs": []
    },
    {
      "cell_type": "code",
      "source": [
        "### YOUR CODE: using ggplot, plot the following on the same plot (~2 lines)\n",
        "# 1. a scatterplot of \"Top10perc\" against \"Accept_ratio\";\n",
        "# 2. in the scatterplot, use different colors for private and public schools;\n",
        "# 3. a smooth curve of \"Top10perc\" against \"Accept_ratio\".\n",
        "\n"
      ],
      "metadata": {
        "id": "nOkPRccphVMJ"
      },
      "execution_count": null,
      "outputs": []
    },
    {
      "cell_type": "code",
      "source": [
        "### YOUR CODE: using ggplot, plot the following on the same plot (~2 lines)\n",
        "# 1. the histogram of the student/faculty ratio, with 25 bins;\n",
        "# 2. in the histogram, fill different colors for private and public schools.\n",
        "\n"
      ],
      "metadata": {
        "id": "ebuWvy1DiK-4"
      },
      "execution_count": null,
      "outputs": []
    }
  ]
}